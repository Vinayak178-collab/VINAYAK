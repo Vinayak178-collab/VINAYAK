{
  "nbformat": 4,
  "nbformat_minor": 0,
  "metadata": {
    "colab": {
      "provenance": [],
      "mount_file_id": "1kGrAtEKYgzerekdkZInPXsoELdKj6hjC",
      "authorship_tag": "ABX9TyPdFvH6QJebxsxGhAjXKTe9",
      "include_colab_link": true
    },
    "kernelspec": {
      "name": "python3",
      "display_name": "Python 3"
    },
    "language_info": {
      "name": "python"
    }
  },
  "cells": [
    {
      "cell_type": "markdown",
      "metadata": {
        "id": "view-in-github",
        "colab_type": "text"
      },
      "source": [
        "<a href=\"https://colab.research.google.com/github/Vinayak178-collab/VINAYAK/blob/main/LAB_4.ipynb\" target=\"_parent\"><img src=\"https://colab.research.google.com/assets/colab-badge.svg\" alt=\"Open In Colab\"/></a>"
      ]
    },
    {
      "cell_type": "code",
      "execution_count": 1,
      "metadata": {
        "colab": {
          "base_uri": "https://localhost:8080/"
        },
        "id": "_L59z5k2XONm",
        "outputId": "3a7d32c8-784b-4db7-839e-b22bdd4b4b2b"
      },
      "outputs": [
        {
          "output_type": "stream",
          "name": "stdout",
          "text": [
            "The dataset is:\n",
            "      sky airtemp humidity    wind water forecast enjoy\n",
            "0  sunny    warm   normal  strong  warm     same     Y\n",
            "1  sunny    warm     high  strong  warm     same     Y\n",
            "2  rainy    cold     high  strong  warm   change     N\n",
            "3  sunny    warm     high  strong  cool   change     Y\n"
          ]
        }
      ],
      "source": [
        "import pandas as pd\n",
        "df = pd.read_csv(\"/content/drive/MyDrive/enjoysport.csv\")\n",
        "print('The dataset is:\\n', df)"
      ]
    },
    {
      "cell_type": "code",
      "source": [
        "\n",
        "\n",
        "\n",
        "data = df.iloc[0:, 0:7].values\n",
        "\n",
        "\n",
        "\n",
        "h = ['0','0','0','0','0','0']\n",
        "\n",
        "\n",
        "def Generalize(h, a):\n",
        "    for i in range(len(a)):\n",
        "        if(h[i] != a[i]):\n",
        "            h[i] = '?'\n",
        "        else:\n",
        "            h[i] = a[i]\n",
        "    return(h)\n",
        "\n",
        "\n",
        "X = data[:, 0:6]\n",
        "Y = data[:, -1]\n",
        "if Y[0] == \"Y\":\n",
        "    h = X[0,:]\n",
        "else:\n",
        "    print(\"Error: First Example in not positive\")\n",
        "\n",
        "for i in range(len(X)):\n",
        "    if(Y[i] == \"Y\"):\n",
        "        h = Generalize(h,X[i,:])\n",
        "\n",
        "print(\"The more general than hypothesis is:\", h)"
      ],
      "metadata": {
        "colab": {
          "base_uri": "https://localhost:8080/"
        },
        "id": "1C6dpY0VXuK4",
        "outputId": "fe163718-7bce-4a47-9bb2-3a1b528531b3"
      },
      "execution_count": 2,
      "outputs": [
        {
          "output_type": "stream",
          "name": "stdout",
          "text": [
            "The more general than hypothesis is: ['sunny' 'warm' '?' 'strong' '?' '?']\n"
          ]
        }
      ]
    }
  ]
}