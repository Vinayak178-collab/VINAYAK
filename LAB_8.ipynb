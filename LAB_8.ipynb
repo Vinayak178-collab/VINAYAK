{
  "nbformat": 4,
  "nbformat_minor": 0,
  "metadata": {
    "colab": {
      "provenance": [],
      "mount_file_id": "1F9vHp9nbRuBseOZfhY7UiGh2PH6pb00j",
      "authorship_tag": "ABX9TyPDb73BsTntb0Ey90b4sBE7",
      "include_colab_link": true
    },
    "kernelspec": {
      "name": "python3",
      "display_name": "Python 3"
    },
    "language_info": {
      "name": "python"
    }
  },
  "cells": [
    {
      "cell_type": "markdown",
      "metadata": {
        "id": "view-in-github",
        "colab_type": "text"
      },
      "source": [
        "<a href=\"https://colab.research.google.com/github/Vinayak178-collab/VINAYAK/blob/main/LAB_8.ipynb\" target=\"_parent\"><img src=\"https://colab.research.google.com/assets/colab-badge.svg\" alt=\"Open In Colab\"/></a>"
      ]
    },
    {
      "cell_type": "code",
      "execution_count": 1,
      "metadata": {
        "colab": {
          "base_uri": "https://localhost:8080/"
        },
        "id": "ZnukU8BEg_fA",
        "outputId": "eec6ae1d-cde8-46b2-8b4c-ee73236750a0"
      },
      "outputs": [
        {
          "output_type": "stream",
          "name": "stdout",
          "text": [
            "<class 'pandas.core.frame.DataFrame'>\n",
            "RangeIndex: 101 entries, 0 to 100\n",
            "Data columns (total 18 columns):\n",
            " #   Column       Non-Null Count  Dtype \n",
            "---  ------       --------------  ----- \n",
            " 0   animal_name  101 non-null    object\n",
            " 1   hair         101 non-null    int64 \n",
            " 2   feathers     101 non-null    int64 \n",
            " 3   eggs         101 non-null    int64 \n",
            " 4   milk         101 non-null    int64 \n",
            " 5   airborne     101 non-null    int64 \n",
            " 6   aquatic      101 non-null    int64 \n",
            " 7   predator     101 non-null    int64 \n",
            " 8   toothed      101 non-null    int64 \n",
            " 9   backbone     101 non-null    int64 \n",
            " 10  breathes     101 non-null    int64 \n",
            " 11  venomous     101 non-null    int64 \n",
            " 12  fins         101 non-null    int64 \n",
            " 13  legs         101 non-null    int64 \n",
            " 14  tail         101 non-null    int64 \n",
            " 15  domestic     101 non-null    int64 \n",
            " 16  catsize      101 non-null    int64 \n",
            " 17  class_type   101 non-null    int64 \n",
            "dtypes: int64(17), object(1)\n",
            "memory usage: 14.3+ KB\n"
          ]
        }
      ],
      "source": [
        "import pandas as pd\n",
        "from sklearn.tree import DecisionTreeClassifier\n",
        "\n",
        "\n",
        "\n",
        "dataset = pd.read_csv('/content/drive/MyDrive/zoo.csv') #Consists of 100 entries.\n",
        "dataset.info()"
      ]
    },
    {
      "cell_type": "code",
      "source": [
        "\n",
        "dataset = dataset=dataset.drop('animal_name',axis=1) #Drop animal_name cloumn\n",
        "\n",
        "\n",
        "percentage_of_data = 80\n",
        "train_features = dataset.iloc[:percentage_of_data,:-1]  #first eighty entries are considered for trainging\n",
        "train_labels = dataset.iloc[:percentage_of_data,-1]\n",
        "\n",
        "test_features = dataset.iloc[percentage_of_data:,:-1] #Next twenty entries are considered for testing\n",
        "test_labels = dataset.iloc[percentage_of_data:,-1]\n",
        "\n",
        "\n",
        "tree_model = DecisionTreeClassifier(criterion = 'entropy') # Creating model\n",
        "fit_tree_model = tree_model.fit(train_features,train_labels) # fit the model to training data"
      ],
      "metadata": {
        "id": "ekZMKibKhP4u"
      },
      "execution_count": 2,
      "outputs": []
    }
  ]
}