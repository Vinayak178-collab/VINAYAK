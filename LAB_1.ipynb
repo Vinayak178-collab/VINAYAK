{
  "nbformat": 4,
  "nbformat_minor": 0,
  "metadata": {
    "colab": {
      "provenance": [],
      "mount_file_id": "13qMJ9kwv0RlFFn_kl4F1A1MCZJH8CbAO",
      "authorship_tag": "ABX9TyM/wxkhQonq0VIZ0ry+nwVf",
      "include_colab_link": true
    },
    "kernelspec": {
      "name": "python3",
      "display_name": "Python 3"
    },
    "language_info": {
      "name": "python"
    }
  },
  "cells": [
    {
      "cell_type": "markdown",
      "metadata": {
        "id": "view-in-github",
        "colab_type": "text"
      },
      "source": [
        "<a href=\"https://colab.research.google.com/github/Vinayak178-collab/VINAYAK/blob/main/LAB_1.ipynb\" target=\"_parent\"><img src=\"https://colab.research.google.com/assets/colab-badge.svg\" alt=\"Open In Colab\"/></a>"
      ]
    },
    {
      "cell_type": "code",
      "execution_count": 2,
      "metadata": {
        "colab": {
          "base_uri": "https://localhost:8080/"
        },
        "id": "D3B4Dp4ML39x",
        "outputId": "3dd7a7ae-8a50-4940-91c5-3dd8aa17775a"
      },
      "outputs": [
        {
          "output_type": "stream",
          "name": "stdout",
          "text": [
            "<class 'pandas.core.frame.DataFrame'>\n",
            "RangeIndex: 20640 entries, 0 to 20639\n",
            "Data columns (total 10 columns):\n",
            " #   Column              Non-Null Count  Dtype  \n",
            "---  ------              --------------  -----  \n",
            " 0   longitude           20640 non-null  float64\n",
            " 1   latitude            20640 non-null  float64\n",
            " 2   housing_median_age  20640 non-null  float64\n",
            " 3   total_rooms         20640 non-null  float64\n",
            " 4   total_bedrooms      20433 non-null  float64\n",
            " 5   population          20640 non-null  float64\n",
            " 6   households          20640 non-null  float64\n",
            " 7   median_income       20640 non-null  float64\n",
            " 8   median_house_value  20640 non-null  float64\n",
            " 9   ocean_proximity     20640 non-null  object \n",
            "dtypes: float64(9), object(1)\n",
            "memory usage: 1.6+ MB\n",
            "None\n"
          ]
        }
      ],
      "source": [
        "\n",
        "import pandas as pd\n",
        "import matplotlib.pyplot as plt\n",
        "import seaborn as sns\n",
        "\n",
        "\n",
        "#load housing data set\n",
        "df = pd.read_csv(\"/content/drive/MyDrive/housing.csv\")\n",
        "\n",
        "\n",
        "# Display the first few rows\n",
        "print(df.info())"
      ]
    },
    {
      "cell_type": "code",
      "source": [
        "# Create a box plot for a specific column (e.g., 'median_house_value')\n",
        "sns.boxplot(x=df['median_house_value'])\n",
        "\n",
        "# Add title and labels\n",
        "plt.title('Box Plot of Median House Value')\n",
        "plt.xlabel('Median House Value')\n",
        "\n",
        "# Show the plot\n",
        "plt.show()"
      ],
      "metadata": {
        "colab": {
          "base_uri": "https://localhost:8080/",
          "height": 472
        },
        "id": "-RBFJGKdRR7W",
        "outputId": "49f9a31a-2200-463d-81e4-d862176856c2"
      },
      "execution_count": 3,
      "outputs": [
        {
          "output_type": "display_data",
          "data": {
            "text/plain": [
              "<Figure size 640x480 with 1 Axes>"
            ],
            "image/png": "[encoded data removed]"
          },
          "metadata": {}
        }
      ]
    },
    {
      "cell_type": "code",
      "source": [
        "#Display outliers for the selected attribute\n",
        "# Calculate the first (Q1) and third quartiles (Q3)\n",
        "Q1 = df['median_house_value'].quantile(0.25)\n",
        "Q3 = df['median_house_value'].quantile(0.75)\n",
        "\n",
        "# Calculate the Interquartile Range (IQR)\n",
        "IQR = Q3 - Q1\n",
        "\n",
        "# Determine the lower and upper bounds for outliers\n",
        "lower_bound = Q1 - 1.5 * IQR\n",
        "upper_bound = Q3 + 1.5 * IQR\n",
        "\n",
        "# Identify outliers\n",
        "outliers = df[(df['median_house_value'] < lower_bound) | (df['median_house_value'] > upper_bound)]\n",
        "print(\"Outliers:\\n\", outliers)"
      ],
      "metadata": {
        "colab": {
          "base_uri": "https://localhost:8080/"
        },
        "id": "Rhlmv3L5RWyh",
        "outputId": "526d2495-7eae-419f-df1f-04d0aefd92a4"
      },
      "execution_count": 4,
      "outputs": [
        {
          "output_type": "stream",
          "name": "stdout",
          "text": [
            "Outliers:\n",
            "        longitude  latitude  housing_median_age  total_rooms  total_bedrooms  \\\n",
            "89       -122.27     37.80                52.0        249.0            78.0   \n",
            "140      -122.18     37.81                30.0        292.0            38.0   \n",
            "459      -122.25     37.87                52.0        609.0           236.0   \n",
            "489      -122.25     37.86                48.0       2153.0           517.0   \n",
            "493      -122.24     37.86                52.0       1668.0           225.0   \n",
            "...          ...       ...                 ...          ...             ...   \n",
            "20422    -118.90     34.14                35.0       1503.0           263.0   \n",
            "20426    -118.69     34.18                11.0       1177.0           138.0   \n",
            "20427    -118.80     34.19                 4.0      15572.0          2222.0   \n",
            "20436    -118.69     34.21                10.0       3663.0           409.0   \n",
            "20443    -118.85     34.27                50.0        187.0            33.0   \n",
            "\n",
            "       population  households  median_income  median_house_value  \\\n",
            "89          396.0        85.0         1.2434            500001.0   \n",
            "140         126.0        52.0         6.3624            483300.0   \n",
            "459        1349.0       250.0         1.1696            500001.0   \n",
            "489        1656.0       459.0         3.0417            489600.0   \n",
            "493         517.0       214.0         7.8521            500001.0   \n",
            "...           ...         ...            ...                 ...   \n",
            "20422       576.0       216.0         5.1457            500001.0   \n",
            "20426       415.0       119.0        10.0472            500001.0   \n",
            "20427      5495.0      2152.0         8.6499            500001.0   \n",
            "20436      1179.0       371.0        12.5420            500001.0   \n",
            "20443       130.0        35.0         3.3438            500001.0   \n",
            "\n",
            "      ocean_proximity  \n",
            "89           NEAR BAY  \n",
            "140          NEAR BAY  \n",
            "459          NEAR BAY  \n",
            "489          NEAR BAY  \n",
            "493          NEAR BAY  \n",
            "...               ...  \n",
            "20422       <1H OCEAN  \n",
            "20426       <1H OCEAN  \n",
            "20427       <1H OCEAN  \n",
            "20436       <1H OCEAN  \n",
            "20443       <1H OCEAN  \n",
            "\n",
            "[1071 rows x 10 columns]\n"
          ]
        }
      ]
    },
    {
      "cell_type": "code",
      "source": [],
      "metadata": {
        "id": "6WDh16afRdt_"
      },
      "execution_count": null,
      "outputs": []
    }
  ]
}